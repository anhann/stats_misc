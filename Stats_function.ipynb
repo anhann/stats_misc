{
  "nbformat": 4,
  "nbformat_minor": 0,
  "metadata": {
    "colab": {
      "name": "Stats function.ipynb",
      "provenance": [],
      "authorship_tag": "ABX9TyPYB3fMPzEC5yrUV577GxOB",
      "include_colab_link": true
    },
    "kernelspec": {
      "name": "python3",
      "display_name": "Python 3"
    },
    "language_info": {
      "name": "python"
    }
  },
  "cells": [
    {
      "cell_type": "markdown",
      "metadata": {
        "id": "view-in-github",
        "colab_type": "text"
      },
      "source": [
        "<a href=\"https://colab.research.google.com/github/anhann/stats_misc/blob/main/Stats_function.ipynb\" target=\"_parent\"><img src=\"https://colab.research.google.com/assets/colab-badge.svg\" alt=\"Open In Colab\"/></a>"
      ]
    },
    {
      "cell_type": "code",
      "execution_count": null,
      "metadata": {
        "id": "OArVlps5mMiE"
      },
      "outputs": [],
      "source": [
        "# Return deviation for a list of number\n",
        "def compute_deviation(list_numbers):\n",
        "    import math\n",
        "    dev_list=dict()\n",
        "    for i in input:\n",
        "        sum_list=0\n",
        "        var_list=0\n",
        "        for j in i['values']:\n",
        "            sum_list+=j\n",
        "        print(sum_list)\n",
        "        mean_list=sum_list/len(i['values'])\n",
        "        print(mean_list)\n",
        "        for k in i['values']:\n",
        "            var_list+=(k-mean_list)**2\n",
        "        std_list=math.sqrt(var_list/len(i['values']))\n",
        "        dev_list[i['key']]=std_list\n",
        "    return dev_list"
      ]
    },
    {
      "cell_type": "code",
      "source": [
        "# Generate Normal Distribution\n",
        "from scipy import stats\n",
        "import numpy as np\n",
        "import random\n",
        "\n",
        "\n",
        "def sample_from_norm(N): \n",
        "    samples = stats.norm.rvs(size=N)\n",
        "\n",
        "    return samples\n",
        "\n",
        "sample_from_norm(1000000)"
      ],
      "metadata": {
        "colab": {
          "base_uri": "https://localhost:8080/"
        },
        "id": "s1i70qMXNbQZ",
        "outputId": "45d6289a-297f-46bb-8feb-d62b74e8f021"
      },
      "execution_count": null,
      "outputs": [
        {
          "output_type": "execute_result",
          "data": {
            "text/plain": [
              "array([-0.69701865, -0.52462136,  0.63962075, ...,  0.33231812,\n",
              "        0.31124975, -0.03855868])"
            ]
          },
          "metadata": {},
          "execution_count": 2
        }
      ]
    },
    {
      "cell_type": "code",
      "source": [
        "# Calculate Root mean square of error\n",
        "def calculate_rmse(y_pred, y_true):\n",
        "    import math\n",
        "    mse=0\n",
        "    for i in range(len(y_pred)):\n",
        "        mse+=(y_pred[i]-y_true[i])**2\n",
        "    return math.sqrt(mse/len(y_pred))"
      ],
      "metadata": {
        "id": "t_3bVvXxNjaS"
      },
      "execution_count": null,
      "outputs": []
    },
    {
      "cell_type": "code",
      "source": [
        "# Generate truncated distribution\n",
        "def truncated_dist(m,sd,n, percentile_threshold):\n",
        "  from scipy import stats\n",
        "  import numpy as np\n",
        "  dist=stats.norm(m,sd)\n",
        "  samples=dist.rvs(n)\n",
        "  truncated=samples[int(n*(1-percentile_threshold)):int(n*percentile_threshold)]\n",
        "  return truncated"
      ],
      "metadata": {
        "id": "LI_yGy05aWYE"
      },
      "execution_count": null,
      "outputs": []
    },
    {
      "cell_type": "code",
      "source": [
        "# Generate bigram of sentences\n",
        "def find_bigrams(sentence):\n",
        "    l=[]\n",
        "    words=list(sentence.lower().split(' '))\n",
        "    for i in range(len(words)-1):\n",
        "        l.append((words[i],words[i+1]))\n",
        "    return l"
      ],
      "metadata": {
        "id": "MqCLuWG-cfyv"
      },
      "execution_count": null,
      "outputs": []
    },
    {
      "cell_type": "code",
      "source": [
        "# Calculate Spearman correlation\n",
        "def spearman(x,y):\n",
        "  sort_x=sorted(x, reverse=True)\n",
        "  rank_x=[]\n",
        "  for i in x:\n",
        "    rank_x.append(sort_x.index(i)+1)\n",
        "  print(rank_x, x)\n",
        "  sort_y=sorted(y, reverse=True)\n",
        "  rank_y=[]\n",
        "  for i in y:\n",
        "    rank_y.append(sort_y.index(i)+1)\n",
        "  print(rank_y, y)\n",
        "  dis=0\n",
        "  for i in range(len(x)):\n",
        "    dis+=(rank_x[i]-rank_y[i])**2\n",
        "  print(dis)\n",
        "  n=len(x)\n",
        "  return 1-(6*dis/(n*(n**2-1)))\n"
      ],
      "metadata": {
        "id": "kPIaAtiidr6Z"
      },
      "execution_count": null,
      "outputs": []
    },
    {
      "cell_type": "code",
      "source": [
        "# Calculate Pearson correlation\n",
        "def pearson(x,y):\n",
        "  import numpy as np\n",
        "  mean_x=np.mean(x)\n",
        "  mean_y=np.mean(y)\n",
        "  sd_x=np.std(x)\n",
        "  sd_y=np.std(y)\n",
        "  cov=0\n",
        "  for i in range(len(x)):\n",
        "    cov+=(x[i]-mean_x)*(y[i]-mean_y)\n",
        "  cov=cov/len(x)\n",
        "  return cov/(sd_x*sd_y)"
      ],
      "metadata": {
        "id": "0NGoFWxd7Qh9"
      },
      "execution_count": null,
      "outputs": []
    },
    {
      "cell_type": "code",
      "source": [
        "# Z-test for 2 sample\n",
        "#how many sample=2\n",
        "#continuous test\n",
        "#giving a statement: 0.05. two-tailed test: z=-1.96 or 1.96 (n>30), \n",
        "\n",
        "def z_test_2_sample(x,y):\n",
        "  import numpy as np\n",
        "  n1=len(x)\n",
        "  n2=len(y)\n",
        "  mean1=np.mean(x)\n",
        "  mean2=np.mean(y)\n",
        "  sd1=np.std(x)\n",
        "  sd2=np.std(y)\n",
        "  sdp=np.sqrt((sd1**2)*(n1-1)+(sd2**2)*(n2-1)/(n1+n2-2))\n",
        "  z_score=(mean1-mean2)/(sdp*np.sqrt(1/n1+1/n2))\n",
        "  if abs(z_score)>=1.96:\n",
        "    print(\"The mean of x is {}, the mean of y is {}. And there's a signigicant difference between x & y\".format(mean1, mean2))\n",
        "  else:\n",
        "    print(\"The mean of x is {}, the mean of y is {}. And there's no signigicant difference between x & y\".format(mean1, mean2))\n"
      ],
      "metadata": {
        "id": "ryeaPEPM-PIu"
      },
      "execution_count": null,
      "outputs": []
    },
    {
      "cell_type": "code",
      "source": [
        "# Reverse a string\n",
        "def reverse_string(n):\n",
        "  return n[::-1]"
      ],
      "metadata": {
        "id": "OeD9ICRN2jcy"
      },
      "execution_count": null,
      "outputs": []
    },
    {
      "cell_type": "code",
      "source": [
        ""
      ],
      "metadata": {
        "id": "1Js1MDtriK-X"
      },
      "execution_count": null,
      "outputs": []
    }
  ]
}